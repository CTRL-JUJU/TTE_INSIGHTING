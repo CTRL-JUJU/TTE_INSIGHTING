{
 "cells": [
  {
   "cell_type": "markdown",
   "metadata": {},
   "source": [
    "# **Assignment 1 For Clustering Data Analytics**\n",
    "<hr>"
   ]
  },
  {
   "cell_type": "markdown",
   "metadata": {},
   "source": [
    "**Submitted by:** Jude M. Ando & Niles Vincent Gabrielle Rondez <br>\n",
    "**Course & Year:** BSCS - 2 <br>\n",
    "**Schedule:** M W 10:30 AM - 12:00 PM <br>\n",
    "<hr>"
   ]
  },
  {
   "cell_type": "markdown",
   "metadata": {},
   "source": [
    "## Instruction\n",
    "\n",
    "@all \n",
    "Assignment 1 for Clustering:\n",
    "New and novel methods in Machine Learning are made either by borrowing formulas and concepts from other scientific fields and redefining it based on new sets of assumptions, or by adding an extra step to an already existing framework of methodology.\n",
    "\n",
    "In this exercise (Assignment 1 of the Clustering Topic), we will try to develop a novel method of Target Trial Emulation by integrating concepts of Clustering into the already existing framework. Target Trial Emulation is a new methodological framework in epidemiology which tries to account for the biases in old and traditional designs.\n",
    "\n",
    "These are the instructions:\n",
    "1. Look at this website: https://rpubs.com/alanyang0924/TTE\n",
    "2. Extract the dummy data in the package and save it as \"data_censored.csv\"\n",
    "2. Convert the R codes into Python Codes (use Jupyter Notebook), replicate the results using your python code.\n",
    "3. Create another copy of your Python Codes, name it TTE-v2 (use Jupyter Notebook).\n",
    "4. Using TTE-v2, think of a creative way on where you would integrate a clustering mechanism, understand each step carefully and decide at which step a clustering method can be implemented. Generate insights from your results.\n",
    "5. Do this by pair, preferably your thesis partner.\n",
    "6. Push to your github repository.\n",
    "7. Deadline is 2 weeks from today: February 28, 2025 at 11:59 pm.\n",
    "\n",
    "HINT: For those who dont have a thesis topic yet, you can actually develop a thesis topic out of this assignment.\n",
    "<hr>"
   ]
  },
  {
   "cell_type": "markdown",
   "metadata": {},
   "source": [
    "## Introduction\n"
   ]
  },
  {
   "cell_type": "markdown",
   "metadata": {},
   "source": [
    "## 1. Setup"
   ]
  },
  {
   "cell_type": "code",
   "execution_count": 126,
   "metadata": {},
   "outputs": [],
   "source": [
    "import os\n",
    "import pandas as pd\n",
    "import numpy as np\n",
    "import statsmodels.api as sm\n",
    "from sklearn.linear_model import LogisticRegression\n",
    "\n",
    "trial_pp_dir = \"trial_pp\"\n",
    "trial_itt_dir = \"trial_itt\"\n",
    "\n",
    "os.makedirs(trial_pp_dir, exist_ok=True)\n",
    "os.makedirs(trial_itt_dir, exist_ok=True)"
   ]
  },
  {
   "cell_type": "markdown",
   "metadata": {},
   "source": [
    "## 2. Data Preparation"
   ]
  },
  {
   "cell_type": "code",
   "execution_count": 134,
   "metadata": {},
   "outputs": [
    {
     "name": "stdout",
     "output_type": "stream",
     "text": [
      "   id  period  treatment  x1        x2  x3        x4  age     age_s  outcome  \\\n",
      "0   1       0          1   1  1.146148   0  0.734203   36  0.083333        0   \n",
      "1   1       1          1   1  0.002200   0  0.734203   37  0.166667        0   \n",
      "2   1       2          1   0 -0.481762   0  0.734203   38  0.250000        0   \n",
      "3   1       3          1   0  0.007872   0  0.734203   39  0.333333        0   \n",
      "4   1       4          1   1  0.216054   0  0.734203   40  0.416667        0   \n",
      "\n",
      "   censored  eligible  assigned_treatment  followup_time  \n",
      "0         0         1                   1              0  \n",
      "1         0         0                   1              1  \n",
      "2         0         0                   1              2  \n",
      "3         0         0                   1              3  \n",
      "4         0         0                   1              4  \n"
     ]
    }
   ],
   "source": [
    "# Load dataset\n",
    "data_censored = pd.read_csv(\"data_censored.csv\")\n",
    "\n",
    "# Add missing columns to avoid KeyError in Step 5\n",
    "data_censored[\"assigned_treatment\"] = data_censored[\"treatment\"]  # Placeholder for treatment assignment\n",
    "data_censored[\"followup_time\"] = data_censored[\"period\"]  # Initialize follow-up time\n",
    "\n",
    "print(data_censored.head())\n"
   ]
  },
  {
   "cell_type": "markdown",
   "metadata": {},
   "source": [
    "## 3. Weight Models and Censoring"
   ]
  },
  {
   "cell_type": "markdown",
   "metadata": {},
   "source": [
    "### 3.1 Censoring Due to Treatment Switching"
   ]
  },
  {
   "cell_type": "code",
   "execution_count": 135,
   "metadata": {},
   "outputs": [],
   "source": [
    "# Logistic Regression for treatment switching\n",
    "switch_model = LogisticRegression()\n",
    "X_switch = data_censored[[\"age\", \"x1\", \"x3\"]]\n",
    "y_switch = data_censored[\"treatment\"]\n",
    "\n",
    "switch_model.fit(X_switch, y_switch)\n",
    "data_censored[\"switch_weight\"] = switch_model.predict_proba(X_switch)[:, 1]"
   ]
  },
  {
   "cell_type": "markdown",
   "metadata": {},
   "source": [
    "### 3.2 Other Informative Censoring"
   ]
  },
  {
   "cell_type": "code",
   "execution_count": 136,
   "metadata": {},
   "outputs": [],
   "source": [
    "censor_model = LogisticRegression()\n",
    "X_censor = data_censored[[\"x2\", \"x1\"]]\n",
    "y_censor = 1 - data_censored[\"censored\"]\n",
    "\n",
    "censor_model.fit(X_censor, y_censor)\n",
    "data_censored[\"censor_weight\"] = censor_model.predict_proba(X_censor)[:, 1]"
   ]
  },
  {
   "cell_type": "markdown",
   "metadata": {},
   "source": [
    "## 4. Calculate Weights"
   ]
  },
  {
   "cell_type": "code",
   "execution_count": 137,
   "metadata": {},
   "outputs": [
    {
     "name": "stdout",
     "output_type": "stream",
     "text": [
      "   id  final_weight\n",
      "0   1      0.579469\n",
      "1   1      0.591720\n",
      "2   1      0.506469\n",
      "3   1      0.486856\n",
      "4   1      0.559652\n"
     ]
    }
   ],
   "source": [
    "data_censored[\"final_weight\"] = data_censored[\"switch_weight\"] * data_censored[\"censor_weight\"]\n",
    "print(data_censored[[\"id\", \"final_weight\"]].head())"
   ]
  },
  {
   "cell_type": "markdown",
   "metadata": {},
   "source": [
    "## 5. Specify Outcome Model"
   ]
  },
  {
   "cell_type": "code",
   "execution_count": 138,
   "metadata": {},
   "outputs": [
    {
     "name": "stdout",
     "output_type": "stream",
     "text": [
      "Optimization terminated successfully.\n",
      "         Current function value: 0.076672\n",
      "         Iterations 9\n",
      "                           Logit Regression Results                           \n",
      "==============================================================================\n",
      "Dep. Variable:                outcome   No. Observations:                  725\n",
      "Model:                          Logit   Df Residuals:                      721\n",
      "Method:                           MLE   Df Model:                            3\n",
      "Date:                Sun, 09 Mar 2025   Pseudo R-squ.:                 0.02457\n",
      "Time:                        19:13:41   Log-Likelihood:                -55.587\n",
      "converged:                       True   LL-Null:                       -56.987\n",
      "Covariance Type:            nonrobust   LLR p-value:                    0.4235\n",
      "======================================================================================\n",
      "                         coef    std err          z      P>|z|      [0.025      0.975]\n",
      "--------------------------------------------------------------------------------------\n",
      "const                 -3.5845      0.520     -6.889      0.000      -4.604      -2.565\n",
      "assigned_treatment    -0.9777      0.691     -1.415      0.157      -2.332       0.377\n",
      "x2                     0.2477      0.310      0.800      0.424      -0.359       0.855\n",
      "followup_time         -0.0312      0.056     -0.562      0.574      -0.140       0.078\n",
      "======================================================================================\n"
     ]
    }
   ],
   "source": [
    "X_outcome = sm.add_constant(data_censored[[\"assigned_treatment\", \"x2\", \"followup_time\"]])\n",
    "y_outcome = data_censored[\"outcome\"]\n",
    "\n",
    "outcome_model = sm.Logit(y_outcome, X_outcome).fit()\n",
    "print(outcome_model.summary())"
   ]
  },
  {
   "cell_type": "markdown",
   "metadata": {},
   "source": [
    "## 6. Expand Trials"
   ]
  },
  {
   "cell_type": "code",
   "execution_count": 139,
   "metadata": {},
   "outputs": [
    {
     "name": "stdout",
     "output_type": "stream",
     "text": [
      "   id  period  treatment  x1        x2  x3        x4  age     age_s  outcome  \\\n",
      "0   1       0          1   1  1.146148   0  0.734203   36  0.083333        0   \n",
      "1   1       1          1   1  0.002200   0  0.734203   37  0.166667        0   \n",
      "2   1       2          1   0 -0.481762   0  0.734203   38  0.250000        0   \n",
      "3   1       3          1   0  0.007872   0  0.734203   39  0.333333        0   \n",
      "4   1       4          1   1  0.216054   0  0.734203   40  0.416667        0   \n",
      "\n",
      "   censored  eligible  assigned_treatment  followup_time  switch_weight  \\\n",
      "0         0         1                   1              1       0.635527   \n",
      "1         0         0                   1              2       0.625536   \n",
      "2         0         0                   1              3       0.550437   \n",
      "3         0         0                   1              4       0.539801   \n",
      "4         0         0                   1              5       0.594942   \n",
      "\n",
      "   censor_weight  final_weight  trial_period  \n",
      "0       0.911793      0.579469             0  \n",
      "1       0.945941      0.591720             1  \n",
      "2       0.920122      0.506469             2  \n",
      "3       0.901916      0.486856             3  \n",
      "4       0.940683      0.559652             4  \n"
     ]
    }
   ],
   "source": [
    "def expand_trials(data):\n",
    "    expanded_data = data.copy()\n",
    "    expanded_data[\"trial_period\"] = expanded_data[\"period\"]\n",
    "    expanded_data[\"followup_time\"] = expanded_data[\"period\"] + 1\n",
    "    return expanded_data\n",
    "\n",
    "trial_pp_expanded = expand_trials(data_censored)\n",
    "trial_itt_expanded = expand_trials(data_censored)\n",
    "\n",
    "print(trial_itt_expanded.head())"
   ]
  },
  {
   "cell_type": "markdown",
   "metadata": {},
   "source": [
    "### 6.1 Create Sequence of Trials Data"
   ]
  },
  {
   "cell_type": "code",
   "execution_count": 141,
   "metadata": {},
   "outputs": [
    {
     "name": "stdout",
     "output_type": "stream",
     "text": [
      "    id  period  treatment   x1        x2   x3        x4   age     age_s  \\\n",
      "0  1.0     0.0        1.0  1.0  1.146148  0.0  0.734203  36.0  0.083333   \n",
      "0  1.0     0.0        1.0  1.0  1.146148  0.0  0.734203  36.0  0.083333   \n",
      "0  1.0     0.0        1.0  1.0  1.146148  0.0  0.734203  36.0  0.083333   \n",
      "0  1.0     0.0        1.0  1.0  1.146148  0.0  0.734203  36.0  0.083333   \n",
      "0  1.0     0.0        1.0  1.0  1.146148  0.0  0.734203  36.0  0.083333   \n",
      "\n",
      "   outcome  censored  eligible  assigned_treatment  followup_time  \\\n",
      "0      0.0       0.0       1.0                 1.0            0.0   \n",
      "0      0.0       0.0       1.0                 1.0            1.0   \n",
      "0      0.0       0.0       1.0                 1.0            2.0   \n",
      "0      0.0       0.0       1.0                 1.0            3.0   \n",
      "0      0.0       0.0       1.0                 1.0            4.0   \n",
      "\n",
      "   switch_weight  censor_weight  final_weight  trial_period  \n",
      "0       0.635527       0.911793      0.579469           0.0  \n",
      "0       0.635527       0.911793      0.579469           1.0  \n",
      "0       0.635527       0.911793      0.579469           2.0  \n",
      "0       0.635527       0.911793      0.579469           3.0  \n",
      "0       0.635527       0.911793      0.579469           4.0  \n"
     ]
    }
   ],
   "source": [
    "def create_sequence_of_trials(data):\n",
    "    expanded_trials = []\n",
    "    \n",
    "    for _, row in data.iterrows():\n",
    "        period_start = int(row[\"period\"])  # Ensure it's an integer\n",
    "        period_end = period_start + 5  # Expanding up to 5 periods ahead\n",
    "        \n",
    "        for t in range(period_start, period_end):\n",
    "            new_row = row.copy()\n",
    "            new_row[\"trial_period\"] = t\n",
    "            new_row[\"followup_time\"] = t - period_start\n",
    "            expanded_trials.append(new_row)\n",
    "    \n",
    "    return pd.DataFrame(expanded_trials)\n",
    "\n",
    "# Apply to expanded data\n",
    "trial_pp_seq = create_sequence_of_trials(trial_pp_expanded)\n",
    "trial_itt_seq = create_sequence_of_trials(trial_itt_expanded)\n",
    "\n",
    "print(trial_itt_seq.head())"
   ]
  },
  {
   "cell_type": "markdown",
   "metadata": {},
   "source": [
    "## 7. Load or Sample From Expanded Data"
   ]
  },
  {
   "cell_type": "code",
   "execution_count": 142,
   "metadata": {},
   "outputs": [
    {
     "name": "stdout",
     "output_type": "stream",
     "text": [
      "     id  period  treatment  x1        x2  x3        x4  age     age_s  \\\n",
      "21    4       2          0   0 -1.025120   1 -1.613258   31 -0.333333   \n",
      "588  79       1          1   0  0.608054   0 -0.221670   39  0.333333   \n",
      "271  39       9          1   0 -1.234967   1  0.189371   50  1.250000   \n",
      "519  69       0          1   0  1.103744   1  0.338365   46  0.916667   \n",
      "489  60       4          1   1 -0.572508   1  0.237703   44  0.750000   \n",
      "\n",
      "     outcome  censored  eligible  assigned_treatment  followup_time  \\\n",
      "21         0         0         1                   0              3   \n",
      "588        0         0         0                   1              2   \n",
      "271        0         0         0                   1             10   \n",
      "519        0         1         1                   1              1   \n",
      "489        0         0         0                   1              5   \n",
      "\n",
      "     switch_weight  censor_weight  final_weight  trial_period  \n",
      "21        0.615590       0.936674      0.576607             2  \n",
      "588       0.539801       0.874630      0.472126             1  \n",
      "271       0.414819       0.942165      0.390828             9  \n",
      "519       0.456979       0.847411      0.387249             0  \n",
      "489       0.545141       0.957975      0.522232             4  \n"
     ]
    }
   ],
   "source": [
    "sample_size = int(len(trial_itt_expanded) * 0.5)  # 50% control group\n",
    "trial_itt_sampled = trial_itt_expanded.sample(sample_size, random_state=1234)\n",
    "print(trial_itt_sampled.head())"
   ]
  },
  {
   "cell_type": "markdown",
   "metadata": {},
   "source": [
    "## 8. Fit Marginal Structural Model"
   ]
  },
  {
   "cell_type": "code",
   "execution_count": 143,
   "metadata": {},
   "outputs": [
    {
     "name": "stdout",
     "output_type": "stream",
     "text": [
      "Optimization terminated successfully.\n",
      "         Current function value: 0.111899\n",
      "         Iterations 8\n",
      "                           Logit Regression Results                           \n",
      "==============================================================================\n",
      "Dep. Variable:                outcome   No. Observations:                  362\n",
      "Model:                          Logit   Df Residuals:                      358\n",
      "Method:                           MLE   Df Model:                            3\n",
      "Date:                Sun, 09 Mar 2025   Pseudo R-squ.:                 0.03867\n",
      "Time:                        19:14:34   Log-Likelihood:                -40.507\n",
      "converged:                       True   LL-Null:                       -42.137\n",
      "Covariance Type:            nonrobust   LLR p-value:                    0.3534\n",
      "======================================================================================\n",
      "                         coef    std err          z      P>|z|      [0.025      0.975]\n",
      "--------------------------------------------------------------------------------------\n",
      "const                 -3.1434      0.665     -4.727      0.000      -4.447      -1.840\n",
      "assigned_treatment    -1.3094      0.825     -1.588      0.112      -2.926       0.307\n",
      "x2                     0.2289      0.344      0.665      0.506      -0.445       0.903\n",
      "followup_time         -0.0053      0.060     -0.089      0.929      -0.123       0.112\n",
      "======================================================================================\n"
     ]
    },
    {
     "name": "stderr",
     "output_type": "stream",
     "text": [
      "C:\\Users\\andoj\\AppData\\Roaming\\Python\\Python312\\site-packages\\statsmodels\\base\\model.py:130: ValueWarning: unknown kwargs ['weights']\n",
      "  warnings.warn(msg, ValueWarning)\n",
      "C:\\Users\\andoj\\AppData\\Roaming\\Python\\Python312\\site-packages\\statsmodels\\base\\model.py:130: ValueWarning: unknown kwargs ['weights']\n",
      "  warnings.warn(msg, ValueWarning)\n"
     ]
    }
   ],
   "source": [
    "def winsorize_weights(weights):\n",
    "    q99 = np.percentile(weights, 99)\n",
    "    return np.minimum(weights, q99)\n",
    "\n",
    "trial_itt_sampled[\"adjusted_weight\"] = winsorize_weights(trial_itt_sampled[\"final_weight\"])\n",
    "\n",
    "X_msm = sm.add_constant(trial_itt_sampled[[\"assigned_treatment\", \"x2\", \"followup_time\"]])\n",
    "y_msm = trial_itt_sampled[\"outcome\"]\n",
    "\n",
    "msm_model = sm.Logit(y_msm, X_msm, weights=trial_itt_sampled[\"adjusted_weight\"]).fit()\n",
    "print(msm_model.summary())"
   ]
  },
  {
   "cell_type": "markdown",
   "metadata": {},
   "source": [
    "## 9. Inference"
   ]
  },
  {
   "cell_type": "code",
   "execution_count": 147,
   "metadata": {},
   "outputs": [
    {
     "data": {
      "image/png": "[encoded data removed]",
      "text/plain": [
       "<Figure size 640x480 with 1 Axes>"
      ]
     },
     "metadata": {},
     "output_type": "display_data"
    }
   ],
   "source": [
    "import matplotlib.pyplot as plt\n",
    "\n",
    "followup_times = np.arange(0, 11)\n",
    "survival_probs = msm_model.predict(sm.add_constant(trial_itt_sampled[[\"assigned_treatment\", \"x2\", \"followup_time\"]]))\n",
    "\n",
    "plt.plot(followup_times, survival_probs[:len(followup_times)], label=\"Survival Difference\")\n",
    "plt.xlabel(\"Follow-up Time\")\n",
    "plt.ylabel(\"Survival Probability\")\n",
    "plt.legend()\n",
    "plt.show()"
   ]
  }
 ],
 "metadata": {
  "kernelspec": {
   "display_name": "Python 3",
   "language": "python",
   "name": "python3"
  },
  "language_info": {
   "codemirror_mode": {
    "name": "ipython",
    "version": 3
   },
   "file_extension": ".py",
   "mimetype": "text/x-python",
   "name": "python",
   "nbconvert_exporter": "python",
   "pygments_lexer": "ipython3",
   "version": "3.12.6"
  }
 },
 "nbformat": 4,
 "nbformat_minor": 2
}
