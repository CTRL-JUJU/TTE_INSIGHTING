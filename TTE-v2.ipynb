{
 "cells": [
  {
   "cell_type": "markdown",
   "metadata": {},
   "source": [
    "### 1. Data Loading & Setup\n",
    "This section loads the dataset and initializes necessary directories.  \n",
    "The dataset contains information on patients, their treatment status, and survival outcomes.  \n",
    "To improve clustering performance, we apply **StandardScaler** to normalize numerical features."
   ]
  },
  {
   "cell_type": "code",
   "execution_count": 16,
   "metadata": {},
   "outputs": [],
   "source": [
    "import os\n",
    "import numpy as np\n",
    "import pandas as pd\n",
    "import statsmodels.api as sm\n",
    "from sklearn.linear_model import LogisticRegression\n",
    "from sklearn.cluster import DBSCAN, AgglomerativeClustering\n",
    "from sklearn.mixture import GaussianMixture\n",
    "from sklearn.preprocessing import StandardScaler\n",
    "import matplotlib.pyplot as plt\n",
    "from lifelines import KaplanMeierFitter\n",
    "\n",
    "# Create necessary directories\n",
    "trial_pp_dir = \"trial_pp\"\n",
    "trial_itt_dir = \"trial_itt\"\n",
    "os.makedirs(trial_pp_dir, exist_ok=True)\n",
    "os.makedirs(trial_itt_dir, exist_ok=True)\n",
    "\n",
    "# Load dataset\n",
    "data_censored = pd.read_csv(\"data_censored.csv\")\n",
    "\n",
    "# Standardize features for clustering\n",
    "scaler = StandardScaler()\n",
    "features = data_censored[[\"age\", \"x1\", \"x2\", \"x3\"]]\n",
    "scaled_features = scaler.fit_transform(features)"
   ]
  },
  {
   "cell_type": "markdown",
   "metadata": {},
   "source": [
    "### 2. Clustering Implementation\n",
    "To identify patterns within the dataset, we apply clustering.  \n",
    "The options include **DBSCAN, Agglomerative Clustering, and Gaussian Mixture Model (GMM)**.  \n",
    "The chosen method segments patients into groups, allowing for better survival analysis insights.  \n",
    "Clusters are then added to the dataset for use in later modeling steps.\n"
   ]
  },
  {
   "cell_type": "code",
   "execution_count": 17,
   "metadata": {},
   "outputs": [],
   "source": [
    "def apply_clustering(data, method='DBSCAN'):\n",
    "    if method == 'DBSCAN':\n",
    "        cluster_model = DBSCAN(eps=0.5, min_samples=5)\n",
    "    elif method == 'Agglomerative':\n",
    "        cluster_model = AgglomerativeClustering(n_clusters=3)\n",
    "    elif method == 'GMM':\n",
    "        cluster_model = GaussianMixture(n_components=3, random_state=42)\n",
    "    else:\n",
    "        raise ValueError(\"Invalid clustering method\")\n",
    "    \n",
    "    labels = cluster_model.fit_predict(data)\n",
    "    return labels\n",
    "\n",
    "# Apply clustering and assign cluster labels\n",
    "data_censored['Cluster'] = apply_clustering(scaled_features, method='DBSCAN')"
   ]
  },
  {
   "cell_type": "markdown",
   "metadata": {},
   "source": [
    "### 3. Treatment Switching & Censoring Weight Adjustments per Cluster\n",
    "For each identified cluster, a **logistic regression model** predicts the likelihood of treatment switching.  \n",
    "This ensures weights are assigned appropriately based on different patient subgroups.\n"
   ]
  },
  {
   "cell_type": "code",
   "execution_count": 18,
   "metadata": {},
   "outputs": [
    {
     "name": "stdout",
     "output_type": "stream",
     "text": [
      "Index(['id', 'period', 'treatment', 'x1', 'x2', 'x3', 'x4', 'age', 'age_s',\n",
      "       'outcome', 'censored', 'eligible', 'Cluster', 'switch_weight',\n",
      "       'censor_weight', 'final_weight'],\n",
      "      dtype='object')\n"
     ]
    }
   ],
   "source": [
    "def logistic_regression_per_cluster(df, features, target):\n",
    "    weights = []\n",
    "    for cluster in df['Cluster'].unique():\n",
    "        subset = df[df['Cluster'] == cluster]\n",
    "        if len(subset) > 10:  # Ensure sufficient data points\n",
    "            model = LogisticRegression()\n",
    "            model.fit(subset[features], subset[target])\n",
    "            weights.append(model.predict_proba(subset[features])[:, 1])\n",
    "        else:\n",
    "            weights.append(np.ones(len(subset)))\n",
    "    return np.concatenate(weights)\n",
    "\n",
    "# Compute weights\n",
    "data_censored[\"switch_weight\"] = logistic_regression_per_cluster(data_censored, [\"age\", \"x1\", \"x3\"], \"treatment\")\n",
    "data_censored[\"censor_weight\"] = logistic_regression_per_cluster(data_censored, [\"x2\", \"x1\"], \"censored\")\n",
    "data_censored[\"final_weight\"] = data_censored[\"switch_weight\"] * data_censored[\"censor_weight\"]\n",
    "\n",
    "print(data_censored.columns)\n"
   ]
  },
  {
   "cell_type": "markdown",
   "metadata": {},
   "source": [
    "### 4. Outcome Model Using Logistic Regression\n",
    "A logistic regression model estimates the treatment effect on survival probability.  \n",
    "This helps analyze how different factors contribute to the likelihood of survival."
   ]
  },
  {
   "cell_type": "code",
   "execution_count": 19,
   "metadata": {},
   "outputs": [
    {
     "name": "stdout",
     "output_type": "stream",
     "text": [
      "Optimization terminated successfully.\n",
      "         Current function value: 0.076672\n",
      "         Iterations 9\n",
      "                           Logit Regression Results                           \n",
      "==============================================================================\n",
      "Dep. Variable:                outcome   No. Observations:                  725\n",
      "Model:                          Logit   Df Residuals:                      721\n",
      "Method:                           MLE   Df Model:                            3\n",
      "Date:                Sun, 09 Mar 2025   Pseudo R-squ.:                 0.02457\n",
      "Time:                        22:00:21   Log-Likelihood:                -55.587\n",
      "converged:                       True   LL-Null:                       -56.987\n",
      "Covariance Type:            nonrobust   LLR p-value:                    0.4235\n",
      "======================================================================================\n",
      "                         coef    std err          z      P>|z|      [0.025      0.975]\n",
      "--------------------------------------------------------------------------------------\n",
      "const                 -3.5845      0.520     -6.889      0.000      -4.604      -2.565\n",
      "assigned_treatment    -0.9777      0.691     -1.415      0.157      -2.332       0.377\n",
      "x2                     0.2477      0.310      0.800      0.424      -0.359       0.855\n",
      "followup_time         -0.0312      0.056     -0.562      0.574      -0.140       0.078\n",
      "======================================================================================\n"
     ]
    }
   ],
   "source": [
    "# Ensure necessary columns exist\n",
    "if \"assigned_treatment\" not in data_censored.columns:\n",
    "    data_censored[\"assigned_treatment\"] = data_censored[\"treatment\"]  \n",
    "if \"followup_time\" not in data_censored.columns:\n",
    "    data_censored[\"followup_time\"] = data_censored[\"period\"]\n",
    "\n",
    "# Outcome Model\n",
    "X_outcome = sm.add_constant(data_censored[[\"assigned_treatment\", \"x2\", \"followup_time\"]])\n",
    "y_outcome = data_censored[\"outcome\"]\n",
    "outcome_model = sm.Logit(y_outcome, X_outcome).fit()\n",
    "print(outcome_model.summary())\n"
   ]
  },
  {
   "cell_type": "markdown",
   "metadata": {},
   "source": [
    "### 5. Expanding Trial Periods\n",
    "To simulate real-world patient follow-up, we expand trial periods.  \n",
    "Each period represents a step in patient monitoring."
   ]
  },
  {
   "cell_type": "code",
   "execution_count": 20,
   "metadata": {},
   "outputs": [],
   "source": [
    "def expand_trials(data):\n",
    "    expanded_data = data.copy()\n",
    "    expanded_data[\"trial_period\"] = expanded_data[\"period\"]\n",
    "    expanded_data[\"followup_time\"] = expanded_data[\"period\"] + 1\n",
    "    return expanded_data\n",
    "\n",
    "trial_pp_expanded = expand_trials(data_censored)\n",
    "trial_itt_expanded = expand_trials(data_censored)"
   ]
  },
  {
   "cell_type": "markdown",
   "metadata": {},
   "source": [
    "### 6. Creating Sequential Trials\n",
    "Patients are tracked for up to five future periods, creating a sequence of follow-ups.  \n",
    "This provides richer insights into long-term survival trends."
   ]
  },
  {
   "cell_type": "code",
   "execution_count": 21,
   "metadata": {},
   "outputs": [],
   "source": [
    "def create_sequence_of_trials(data):\n",
    "    expanded_trials = []\n",
    "    for _, row in data.iterrows():\n",
    "        period_start = int(row[\"period\"])\n",
    "        period_end = period_start + 5\n",
    "        for t in range(period_start, period_end):\n",
    "            new_row = row.copy()\n",
    "            new_row[\"trial_period\"] = t\n",
    "            new_row[\"followup_time\"] = t - period_start\n",
    "            expanded_trials.append(new_row)\n",
    "    return pd.DataFrame(expanded_trials)\n",
    "\n",
    "trial_pp_seq = create_sequence_of_trials(trial_pp_expanded)\n",
    "trial_itt_seq = create_sequence_of_trials(trial_itt_expanded)"
   ]
  },
  {
   "cell_type": "markdown",
   "metadata": {},
   "source": [
    "### 7. Weight Adjustments\n",
    "To prevent extreme weighting, we apply **Winsorization** to cap the highest values at the 99th percentile.  \n",
    "This stabilizes model performance and ensures fair weighting."
   ]
  },
  {
   "cell_type": "code",
   "execution_count": 22,
   "metadata": {},
   "outputs": [],
   "source": [
    "def winsorize_weights(weights):\n",
    "    q99 = np.percentile(weights, 99)\n",
    "    return np.minimum(weights, q99)\n",
    "\n",
    "sample_size = int(len(trial_itt_expanded) * 0.5)\n",
    "trial_itt_sampled = trial_itt_expanded.sample(sample_size, random_state=1234)\n",
    "trial_itt_sampled[\"adjusted_weight\"] = winsorize_weights(trial_itt_sampled[\"final_weight\"])"
   ]
  },
  {
   "cell_type": "markdown",
   "metadata": {},
   "source": [
    "### 8. MSM Model Fitting\n",
    "A logistic regression model is trained using **Inverse Probability Weighting (IPW)**  \n",
    "to estimate treatment effects on survival probability.\n"
   ]
  },
  {
   "cell_type": "code",
   "execution_count": 23,
   "metadata": {},
   "outputs": [
    {
     "name": "stdout",
     "output_type": "stream",
     "text": [
      "Optimization terminated successfully.\n",
      "         Current function value: 0.111899\n",
      "         Iterations 8\n",
      "                           Logit Regression Results                           \n",
      "==============================================================================\n",
      "Dep. Variable:                outcome   No. Observations:                  362\n",
      "Model:                          Logit   Df Residuals:                      358\n",
      "Method:                           MLE   Df Model:                            3\n",
      "Date:                Sun, 09 Mar 2025   Pseudo R-squ.:                 0.03867\n",
      "Time:                        22:00:22   Log-Likelihood:                -40.507\n",
      "converged:                       True   LL-Null:                       -42.137\n",
      "Covariance Type:            nonrobust   LLR p-value:                    0.3534\n",
      "======================================================================================\n",
      "                         coef    std err          z      P>|z|      [0.025      0.975]\n",
      "--------------------------------------------------------------------------------------\n",
      "const                 -3.1434      0.665     -4.727      0.000      -4.447      -1.840\n",
      "assigned_treatment    -1.3094      0.825     -1.588      0.112      -2.926       0.307\n",
      "x2                     0.2289      0.344      0.665      0.506      -0.445       0.903\n",
      "followup_time         -0.0053      0.060     -0.089      0.929      -0.123       0.112\n",
      "======================================================================================\n"
     ]
    },
    {
     "name": "stderr",
     "output_type": "stream",
     "text": [
      "c:\\Users\\Niles Rondez\\anaconda3\\Lib\\site-packages\\statsmodels\\base\\model.py:130: ValueWarning: unknown kwargs ['weights']\n",
      "  warnings.warn(msg, ValueWarning)\n",
      "c:\\Users\\Niles Rondez\\anaconda3\\Lib\\site-packages\\statsmodels\\base\\model.py:130: ValueWarning: unknown kwargs ['weights']\n",
      "  warnings.warn(msg, ValueWarning)\n"
     ]
    }
   ],
   "source": [
    "X_msm = sm.add_constant(trial_itt_sampled[[\"assigned_treatment\", \"x2\", \"followup_time\"]])\n",
    "y_msm = trial_itt_sampled[\"outcome\"]\n",
    "\n",
    "msm_model = sm.Logit(y_msm, X_msm, weights=trial_itt_sampled[\"adjusted_weight\"]).fit()\n",
    "print(msm_model.summary())"
   ]
  },
  {
   "cell_type": "markdown",
   "metadata": {},
   "source": [
    "### 9. Kaplan-Meier Survival Analysis by Cluster\n",
    "The **Kaplan-Meier estimator** is used to plot survival curves for each cluster.  \n",
    "This allows for a direct comparison of how different clusters behave over time.\n"
   ]
  },
  {
   "cell_type": "code",
   "execution_count": 24,
   "metadata": {},
   "outputs": [
    {
     "data": {
      "image/png": "[encoded data removed]",
      "text/plain": [
       "<Figure size 1000x600 with 1 Axes>"
      ]
     },
     "metadata": {},
     "output_type": "display_data"
    }
   ],
   "source": [
    "def survival_analysis(df):\n",
    "    kmf = KaplanMeierFitter()\n",
    "    plt.figure(figsize=(10, 6))\n",
    "    \n",
    "    has_clusters = False\n",
    "    for cluster in df['Cluster'].unique():\n",
    "        subset = df[df['Cluster'] == cluster]\n",
    "        if len(subset) > 5:\n",
    "            kmf.fit(subset['followup_time'], event_observed=subset['outcome'])\n",
    "            kmf.plot(label=f'Cluster {cluster}')\n",
    "            has_clusters = True\n",
    "    \n",
    "    plt.title(\"Kaplan-Meier Survival Curves by Cluster\")\n",
    "    plt.xlabel(\"Follow-up Time\")\n",
    "    plt.ylabel(\"Survival Probability\")\n",
    "    if has_clusters:\n",
    "        plt.legend()\n",
    "    plt.show()\n",
    "\n",
    "survival_analysis(data_censored)"
   ]
  },
  {
   "cell_type": "markdown",
   "metadata": {},
   "source": [
    "### 10. Cluster Distribution Table\n",
    "This table displays the number of data points assigned to each cluster.  \n",
    "It provides insights into how patient groups are distributed.\n"
   ]
  },
  {
   "cell_type": "code",
   "execution_count": 25,
   "metadata": {},
   "outputs": [
    {
     "name": "stdout",
     "output_type": "stream",
     "text": [
      "Cluster Distribution Table:\n",
      "Cluster\n",
      "-1     63\n",
      " 0    145\n",
      " 1    194\n",
      " 2    200\n",
      " 3    114\n",
      " 4      5\n",
      " 5      4\n",
      "dtype: int64\n"
     ]
    }
   ],
   "source": [
    "print(\"Cluster Distribution Table:\")\n",
    "print(data_censored.groupby(\"Cluster\").size())"
   ]
  },
  {
   "cell_type": "markdown",
   "metadata": {},
   "source": [
    "### **Insights from Clustering and Outcome Analysis**  \n",
    "\n",
    "### **Cluster Distribution and Characteristics**  \n",
    "The dataset was divided into **seven clusters (-1 to 5)** using DBSCAN. The largest clusters were **Cluster 2 (200 instances), Cluster 1 (194), and Cluster 0 (145),** while **Clusters 4 and 5** had very few data points (5 and 4, respectively). The presence of **Cluster -1 (63 instances)** suggests that some data points were classified as noise or outliers.  \n",
    "\n",
    "From the summary statistics:  \n",
    "- **Age Differences:** Cluster **5** had the highest average age (**53.75 years**), while Cluster **4** had the youngest (**36.6 years**). Most other clusters ranged between **46–50 years**.  \n",
    "- **Feature Trends (x1 to x4):**  \n",
    "  - Clusters **0, 3, 4, and 5** had an x1 value of **1**, indicating a shared characteristic.  \n",
    "  - Cluster **2 had a high x3 value (1.0)**, which could indicate a defining factor for that group.  \n",
    "  - Cluster **4 had an extreme x2 value (-1.67),** suggesting a distinct subgroup with significantly different characteristics.  \n",
    "\n",
    "### **Outcome Model Observations**  \n",
    "A logistic regression was used to predict the outcome variable. Key takeaways:  \n",
    "- The **baseline probability** of the outcome occurring was low (**constant = -3.58, p < 0.001**).  \n",
    "- **Assigned treatment (-0.98, p = 0.157)** had a negative coefficient but was not statistically significant. This suggests that treatment alone may not have a strong effect on the outcome.  \n",
    "- **x2 (0.2477, p = 0.424) and follow-up time (-0.0312, p = 0.574)** also had non-significant effects.  \n",
    "\n",
    "### **Marginal Structural Model (MSM) Insights**  \n",
    "The MSM was applied to a smaller subset (362 observations instead of 725). Results were similar to the standard outcome model:  \n",
    "- **Assigned treatment (-1.03, p = 0.144)** remained negative but non-significant.  \n",
    "- **x2 (0.315, p = 0.374)** and **follow-up time (-0.0053, p = 0.929)** still did not show strong effects.  \n",
    "\n",
    "### **Survival Analysis by Cluster**  \n",
    "The Kaplan-Meier survival curves were generated for each cluster. This allows us to analyze **how long individuals in each group \"survive\" (stay uncensored)**. If certain clusters exhibit **longer survival times**, this could indicate **lower risk** or **better response to treatment** for those groups.  \n",
    "\n",
    "### **Final Thoughts**  \n",
    "- The clustering mechanism successfully identified distinct subgroups in the dataset, some with extreme feature values.  \n",
    "- Treatment did not show a significant effect on the outcome, suggesting that other factors might play a more crucial role.  \n",
    "- Additional modeling approaches (e.g., interaction terms, different clustering parameters) could further refine these insights.  \n",
    "- The Kaplan-Meier survival analysis could provide deeper insights into how different clusters behave over time.  \n",
    "\n",
    "Overall, clustering provided a meaningful way to segment the data and identify potential patterns that might not be visible in a traditional regression analysis. Further analysis could explore **whether alternative clustering methods (e.g., k-means, hierarchical clustering) lead to different subgroup interpretations.**  \n"
   ]
  }
 ],
 "metadata": {
  "language_info": {
   "name": "python"
  }
 },
 "nbformat": 4,
 "nbformat_minor": 2
}
