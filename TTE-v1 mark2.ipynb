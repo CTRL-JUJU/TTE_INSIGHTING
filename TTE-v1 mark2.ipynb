{
 "cells": [
  {
   "cell_type": "markdown",
   "metadata": {},
   "source": [
    "# **Assignment 1 For Clustering Data Analytics**\n",
    "<hr>"
   ]
  },
  {
   "cell_type": "markdown",
   "metadata": {},
   "source": [
    "**Submitted by:** Jude M. Ando & Niles Vincent Gabrielle Rondez <br>\n",
    "**Course & Year:** BSCS - 2 <br>\n",
    "**Schedule:** M W 10:30 AM - 12:00 PM <br>\n",
    "<hr>"
   ]
  },
  {
   "cell_type": "markdown",
   "metadata": {},
   "source": [
    "## Instruction\n",
    "\n",
    "@all \n",
    "Assignment 1 for Clustering:\n",
    "New and novel methods in Machine Learning are made either by borrowing formulas and concepts from other scientific fields and redefining it based on new sets of assumptions, or by adding an extra step to an already existing framework of methodology.\n",
    "\n",
    "In this exercise (Assignment 1 of the Clustering Topic), we will try to develop a novel method of Target Trial Emulation by integrating concepts of Clustering into the already existing framework. Target Trial Emulation is a new methodological framework in epidemiology which tries to account for the biases in old and traditional designs.\n",
    "\n",
    "These are the instructions:\n",
    "1. Look at this website: https://rpubs.com/alanyang0924/TTE\n",
    "2. Extract the dummy data in the package and save it as \"data_censored.csv\"\n",
    "2. Convert the R codes into Python Codes (use Jupyter Notebook), replicate the results using your python code.\n",
    "3. Create another copy of your Python Codes, name it TTE-v2 (use Jupyter Notebook).\n",
    "4. Using TTE-v2, think of a creative way on where you would integrate a clustering mechanism, understand each step carefully and decide at which step a clustering method can be implemented. Generate insights from your results.\n",
    "5. Do this by pair, preferably your thesis partner.\n",
    "6. Push to your github repository.\n",
    "7. Deadline is 2 weeks from today: February 28, 2025 at 11:59 pm.\n",
    "\n",
    "HINT: For those who dont have a thesis topic yet, you can actually develop a thesis topic out of this assignment.\n",
    "<hr>"
   ]
  },
  {
   "cell_type": "markdown",
   "metadata": {},
   "source": [
    "## Introduction\n"
   ]
  },
  {
   "cell_type": "markdown",
   "metadata": {},
   "source": [
    "## 1. Setup"
   ]
  },
  {
   "cell_type": "code",
   "execution_count": 76,
   "metadata": {},
   "outputs": [],
   "source": [
    "# 1. SETUP\n",
    "import os\n",
    "import pandas as pd\n",
    "import numpy as np\n",
    "import statsmodels.api as sm\n",
    "import matplotlib.pyplot as plt\n",
    "from sklearn.linear_model import LogisticRegression\n",
    "\n",
    "# Define directories for output (similar to tempdir() in R)\n",
    "trial_pp_dir = \"trial_pp\"\n",
    "trial_itt_dir = \"trial_itt\"\n",
    "\n",
    "os.makedirs(trial_pp_dir, exist_ok=True)\n",
    "os.makedirs(trial_itt_dir, exist_ok=True)\n"
   ]
  },
  {
   "cell_type": "markdown",
   "metadata": {},
   "source": [
    "## 2. Data Preparation"
   ]
  },
  {
   "cell_type": "code",
   "execution_count": 77,
   "metadata": {},
   "outputs": [
    {
     "name": "stdout",
     "output_type": "stream",
     "text": [
      "   id  period  treatment  x1        x2  x3        x4  age     age_s  outcome  \\\n",
      "0   1       0          1   1  1.146148   0  0.734203   36  0.083333        0   \n",
      "1   1       1          1   1  0.002200   0  0.734203   37  0.166667        0   \n",
      "2   1       2          1   0 -0.481762   0  0.734203   38  0.250000        0   \n",
      "3   1       3          1   0  0.007872   0  0.734203   39  0.333333        0   \n",
      "4   1       4          1   1  0.216054   0  0.734203   40  0.416667        0   \n",
      "\n",
      "   censored  eligible  assigned_treatment  followup_time  \n",
      "0         0         1                   1              0  \n",
      "1         0         0                   1              1  \n",
      "2         0         0                   1              2  \n",
      "3         0         0                   1              3  \n",
      "4         0         0                   1              4  \n"
     ]
    }
   ],
   "source": [
    "# 2. DATA PREPARATION - Load dataset\n",
    "data_censored = pd.read_csv(\"data_censored.csv\")\n",
    "\n",
    "# Ensure required columns exist\n",
    "required_columns = [\"id\", \"period\", \"treatment\", \"outcome\", \"eligible\", \"censored\", \"x1\", \"x2\", \"x3\", \"age\"]\n",
    "missing_columns = [col for col in required_columns if col not in data_censored.columns]\n",
    "\n",
    "if missing_columns:\n",
    "    raise KeyError(f\"Missing columns in data_censored: {missing_columns}\")\n",
    "\n",
    "# Add necessary columns\n",
    "data_censored[\"assigned_treatment\"] = data_censored[\"treatment\"]\n",
    "data_censored[\"followup_time\"] = data_censored[\"period\"]\n",
    "\n",
    "# Create trial objects as dictionaries\n",
    "trial_pp = {\"data\": data_censored.copy()}\n",
    "trial_itt = {\"data\": data_censored.copy()}\n",
    "\n",
    "print(data_censored.head())  # Verify dataset is correctly loaded\n"
   ]
  },
  {
   "cell_type": "markdown",
   "metadata": {},
   "source": [
    "## 3. Weight Models and Censoring"
   ]
  },
  {
   "cell_type": "markdown",
   "metadata": {},
   "source": [
    "### 3.1 Censoring Due to Treatment Switching"
   ]
  },
  {
   "cell_type": "code",
   "execution_count": 78,
   "metadata": {},
   "outputs": [],
   "source": [
    "# Logistic Regression for treatment switching\n",
    "switch_model = LogisticRegression()\n",
    "X_switch = data_censored[[\"age\", \"x1\", \"x3\"]]\n",
    "y_switch = data_censored[\"treatment\"]\n",
    "\n",
    "switch_model.fit(X_switch, y_switch)\n",
    "data_censored[\"switch_weight\"] = switch_model.predict_proba(X_switch)[:, 1]"
   ]
  },
  {
   "cell_type": "markdown",
   "metadata": {},
   "source": [
    "### 3.2 Other Informative Censoring"
   ]
  },
  {
   "cell_type": "code",
   "execution_count": 81,
   "metadata": {},
   "outputs": [],
   "source": [
    "# Logistic Regression for censoring\n",
    "censor_model = LogisticRegression()\n",
    "X_censor = data_censored[[\"x2\", \"x1\"]]\n",
    "y_censor = 1 - data_censored[\"censored\"]\n",
    "\n",
    "censor_model.fit(X_censor, y_censor)\n",
    "data_censored[\"censor_weight\"] = censor_model.predict_proba(X_censor)[:, 1]"
   ]
  },
  {
   "cell_type": "markdown",
   "metadata": {},
   "source": [
    "## 4. Calculate Weights"
   ]
  },
  {
   "cell_type": "code",
   "execution_count": 93,
   "metadata": {},
   "outputs": [
    {
     "name": "stdout",
     "output_type": "stream",
     "text": [
      "(10949, 15)\n"
     ]
    }
   ],
   "source": [
    "# 4. CALCULATE WEIGHTS\n",
    "\n",
    "# Compute final weight\n",
    "data_censored[\"final_weight\"] = data_censored[\"switch_weight\"] * data_censored[\"censor_weight\"]\n",
    "data_censored[\"final_weight\"] = data_censored[\"final_weight\"].replace(0, 1).fillna(1)\n",
    "\n",
    "# Merge weights into expanded dataset\n",
    "trial_itt_expanded = trial_itt[\"data\"].copy()\n",
    "trial_itt_expanded = trial_itt_expanded.merge(\n",
    "    data_censored[[\"id\", \"final_weight\"]], on=\"id\", how=\"left\"\n",
    ")\n",
    "\n",
    "# Assign weight column safely\n",
    "trial_itt_expanded[\"weight\"] = trial_itt_expanded[\"final_weight\"].fillna(1)\n",
    "trial_itt_expanded.drop(columns=[\"final_weight\"], inplace=True)\n",
    "\n",
    "print(trial_itt_expanded.shape)  # Check size after merge\n"
   ]
  },
  {
   "cell_type": "markdown",
   "metadata": {},
   "source": [
    "## 5. Specify Outcome Model"
   ]
  },
  {
   "cell_type": "code",
   "execution_count": null,
   "metadata": {},
   "outputs": [
    {
     "name": "stdout",
     "output_type": "stream",
     "text": [
      "Optimization terminated successfully.\n",
      "         Current function value: 0.076672\n",
      "         Iterations 9\n",
      "                           Logit Regression Results                           \n",
      "==============================================================================\n",
      "Dep. Variable:                outcome   No. Observations:                  725\n",
      "Model:                          Logit   Df Residuals:                      721\n",
      "Method:                           MLE   Df Model:                            3\n",
      "Date:                Sun, 09 Mar 2025   Pseudo R-squ.:                 0.02457\n",
      "Time:                        19:43:11   Log-Likelihood:                -55.587\n",
      "converged:                       True   LL-Null:                       -56.987\n",
      "Covariance Type:            nonrobust   LLR p-value:                    0.4235\n",
      "======================================================================================\n",
      "                         coef    std err          z      P>|z|      [0.025      0.975]\n",
      "--------------------------------------------------------------------------------------\n",
      "const                 -3.5845      0.520     -6.889      0.000      -4.604      -2.565\n",
      "assigned_treatment    -0.9777      0.691     -1.415      0.157      -2.332       0.377\n",
      "x2                     0.2477      0.310      0.800      0.424      -0.359       0.855\n",
      "followup_time         -0.0312      0.056     -0.562      0.574      -0.140       0.078\n",
      "======================================================================================\n"
     ]
    }
   ],
   "source": [
    "# 5. SPECIFY OUTCOME MODEL\n",
    "X_outcome = sm.add_constant(data_censored[[\"assigned_treatment\", \"x2\", \"followup_time\"]])\n",
    "y_outcome = data_censored[\"outcome\"]\n",
    "\n",
    "outcome_model = sm.Logit(y_outcome, X_outcome).fit()\n",
    "print(outcome_model.summary())\n"
   ]
  },
  {
   "cell_type": "markdown",
   "metadata": {},
   "source": [
    "## 6. Expand Trials"
   ]
  },
  {
   "cell_type": "code",
   "execution_count": null,
   "metadata": {},
   "outputs": [
    {
     "name": "stdout",
     "output_type": "stream",
     "text": [
      "    id  period  treatment   x1        x2   x3        x4   age     age_s  \\\n",
      "0  1.0     0.0        1.0  1.0  1.146148  0.0  0.734203  36.0  0.083333   \n",
      "0  1.0     0.0        1.0  1.0  1.146148  0.0  0.734203  36.0  0.083333   \n",
      "0  1.0     0.0        1.0  1.0  1.146148  0.0  0.734203  36.0  0.083333   \n",
      "1  1.0     1.0        1.0  1.0  0.002200  0.0  0.734203  37.0  0.166667   \n",
      "1  1.0     1.0        1.0  1.0  0.002200  0.0  0.734203  37.0  0.166667   \n",
      "\n",
      "   outcome  censored  eligible  assigned_treatment  followup_time  \\\n",
      "0      0.0       0.0       1.0                 1.0            0.0   \n",
      "0      0.0       0.0       1.0                 1.0            1.0   \n",
      "0      0.0       0.0       1.0                 1.0            2.0   \n",
      "1      0.0       0.0       0.0                 1.0            0.0   \n",
      "1      0.0       0.0       0.0                 1.0            1.0   \n",
      "\n",
      "   trial_period  \n",
      "0           0.0  \n",
      "0           1.0  \n",
      "0           2.0  \n",
      "1           1.0  \n",
      "1           2.0  \n"
     ]
    }
   ],
   "source": [
    "# 6. EXPAND TRIALS\n",
    "def create_sequence_of_trials(data, max_periods=3):\n",
    "    expanded_trials = []\n",
    "    \n",
    "    for _, row in data.iterrows():\n",
    "        period_start = int(row[\"period\"])  \n",
    "        period_end = min(period_start + max_periods, period_start + 10)\n",
    "\n",
    "        for t in range(period_start, period_end):\n",
    "            new_row = row.copy()\n",
    "            new_row[\"trial_period\"] = t\n",
    "            new_row[\"followup_time\"] = t - period_start\n",
    "            expanded_trials.append(new_row)\n",
    "\n",
    "    return pd.DataFrame(expanded_trials)\n",
    "\n",
    "trial_itt_expanded = create_sequence_of_trials(trial_itt[\"data\"])\n",
    "\n",
    "print(trial_itt_expanded.head())  # Check if expansion works correctly\n"
   ]
  },
  {
   "cell_type": "markdown",
   "metadata": {},
   "source": [
    "### 6.1 Create Sequence of Trials Data"
   ]
  },
  {
   "cell_type": "code",
   "execution_count": 103,
   "metadata": {},
   "outputs": [
    {
     "name": "stdout",
     "output_type": "stream",
     "text": [
      "    id  period  treatment   x1        x2   x3        x4   age     age_s  \\\n",
      "0  1.0     0.0        1.0  1.0  1.146148  0.0  0.734203  36.0  0.083333   \n",
      "1  1.0     0.0        1.0  1.0  1.146148  0.0  0.734203  36.0  0.083333   \n",
      "2  1.0     0.0        1.0  1.0  1.146148  0.0  0.734203  36.0  0.083333   \n",
      "3  1.0     0.0        1.0  1.0  1.146148  0.0  0.734203  36.0  0.083333   \n",
      "4  1.0     0.0        1.0  1.0  1.146148  0.0  0.734203  36.0  0.083333   \n",
      "\n",
      "   outcome  censored  eligible  assigned_treatment  followup_time  \\\n",
      "0      0.0       0.0       1.0                 1.0            0.0   \n",
      "1      0.0       0.0       1.0                 1.0            0.0   \n",
      "2      0.0       0.0       1.0                 1.0            0.0   \n",
      "3      0.0       0.0       1.0                 1.0            0.0   \n",
      "4      0.0       0.0       1.0                 1.0            0.0   \n",
      "\n",
      "   trial_period    weight  \n",
      "0           0.0  0.579469  \n",
      "1           0.0  0.591720  \n",
      "2           0.0  0.506469  \n",
      "3           0.0  0.486856  \n",
      "4           0.0  0.559652  \n"
     ]
    }
   ],
   "source": [
    "# 6.1 RE-MERGE WEIGHT INTO EXPANDED TRIAL DATA\n",
    "trial_itt_expanded = trial_itt_expanded.merge(\n",
    "    data_censored[[\"id\", \"final_weight\"]].rename(columns={\"final_weight\": \"weight\"}), \n",
    "    on=\"id\", \n",
    "    how=\"left\"\n",
    ")\n",
    "\n",
    "# Ensure weight column exists\n",
    "trial_itt_expanded[\"weight\"] = trial_itt_expanded[\"weight\"].fillna(1)\n",
    "\n",
    "print(trial_itt_expanded.head())  # ✅ THIS WILL NOW WORK FOR REAL\n"
   ]
  },
  {
   "cell_type": "markdown",
   "metadata": {},
   "source": [
    "## 7. Load or Sample From Expanded Data"
   ]
  },
  {
   "cell_type": "code",
   "execution_count": 104,
   "metadata": {},
   "outputs": [
    {
     "name": "stdout",
     "output_type": "stream",
     "text": [
      "         id  assigned_treatment        x2  followup_time    weight  outcome\n",
      "7937   23.0                 0.0  2.051176            0.0  0.229819      0.0\n",
      "15279  46.0                 1.0  0.695822            2.0  0.553623      0.0\n",
      "4515   16.0                 1.0  0.294230            2.0  0.663998      0.0\n",
      "32182  98.0                 0.0  1.045454            1.0  0.208331      0.0\n",
      "6071   21.0                 0.0 -0.805011            0.0  0.274840      0.0\n"
     ]
    }
   ],
   "source": [
    "# 7. LOAD OR SAMPLE FROM EXPANDED DATA\n",
    "sample_size = min(int(len(trial_itt_expanded) * 0.5), len(trial_itt_expanded))\n",
    "\n",
    "trial_itt_sampled = trial_itt_expanded[\n",
    "    [\"id\", \"assigned_treatment\", \"x2\", \"followup_time\", \"weight\", \"outcome\"]\n",
    "].sample(sample_size, random_state=1234).copy()\n",
    "\n",
    "print(trial_itt_sampled.head())  # Verify columns exist\n"
   ]
  },
  {
   "cell_type": "markdown",
   "metadata": {},
   "source": [
    "## 8. Fit Marginal Structural Model"
   ]
  },
  {
   "cell_type": "code",
   "execution_count": 105,
   "metadata": {},
   "outputs": [
    {
     "name": "stdout",
     "output_type": "stream",
     "text": [
      "Optimization terminated successfully.\n",
      "         Current function value: 0.040600\n",
      "         Iterations 10\n",
      "                           Logit Regression Results                           \n",
      "==============================================================================\n",
      "Dep. Variable:                outcome   No. Observations:                16423\n",
      "Model:                          Logit   Df Residuals:                    16419\n",
      "Method:                           MLE   Df Model:                            3\n",
      "Date:                Sun, 09 Mar 2025   Pseudo R-squ.:                 0.04070\n",
      "Time:                        19:46:47   Log-Likelihood:                -666.77\n",
      "converged:                       True   LL-Null:                       -695.06\n",
      "Covariance Type:            nonrobust   LLR p-value:                 3.163e-12\n",
      "======================================================================================\n",
      "                         coef    std err          z      P>|z|      [0.025      0.975]\n",
      "--------------------------------------------------------------------------------------\n",
      "const                 -4.4983      0.154    -29.118      0.000      -4.801      -4.195\n",
      "assigned_treatment    -1.7679      0.286     -6.173      0.000      -2.329      -1.207\n",
      "x2                     0.0806      0.094      0.856      0.392      -0.104       0.265\n",
      "followup_time          0.0332      0.114      0.290      0.771      -0.191       0.257\n",
      "======================================================================================\n"
     ]
    }
   ],
   "source": [
    "# 8. FIT MARGINAL STRUCTURAL MODEL\n",
    "\n",
    "def winsorize_weights(weights):\n",
    "    q99 = np.percentile(weights, 99)\n",
    "    return np.minimum(weights, q99)\n",
    "\n",
    "trial_itt_sampled[\"adjusted_weight\"] = winsorize_weights(trial_itt_sampled[\"weight\"])\n",
    "\n",
    "X_msm = sm.add_constant(trial_itt_sampled[[\"assigned_treatment\", \"x2\", \"followup_time\"]])\n",
    "y_msm = trial_itt_sampled[\"outcome\"]\n",
    "\n",
    "msm_model = sm.Logit(y_msm, X_msm).fit()\n",
    "print(msm_model.summary())\n"
   ]
  },
  {
   "cell_type": "markdown",
   "metadata": {},
   "source": [
    "## 9. Inference"
   ]
  },
  {
   "cell_type": "code",
   "execution_count": 7,
   "metadata": {},
   "outputs": [
    {
     "ename": "NameError",
     "evalue": "name 'np' is not defined",
     "output_type": "error",
     "traceback": [
      "\u001b[1;31m---------------------------------------------------------------------------\u001b[0m",
      "\u001b[1;31mNameError\u001b[0m                                 Traceback (most recent call last)",
      "Cell \u001b[1;32mIn[7], line 3\u001b[0m\n\u001b[0;32m      1\u001b[0m \u001b[38;5;66;03m# 9. INFERENCE - Predict Survival Differences\u001b[39;00m\n\u001b[1;32m----> 3\u001b[0m predict_times \u001b[38;5;241m=\u001b[39m \u001b[43mnp\u001b[49m\u001b[38;5;241m.\u001b[39marange(\u001b[38;5;241m0\u001b[39m, \u001b[38;5;241m11\u001b[39m)\n\u001b[0;32m      4\u001b[0m new_data \u001b[38;5;241m=\u001b[39m trial_itt_sampled\u001b[38;5;241m.\u001b[39mcopy()\n\u001b[0;32m      6\u001b[0m \u001b[38;5;66;03m# Ensure constant column exists\u001b[39;00m\n",
      "\u001b[1;31mNameError\u001b[0m: name 'np' is not defined"
     ]
    }
   ],
   "source": [
    "# 9. INFERENCE - Predict Survival Differences\n",
    "\n",
    "predict_times = np.arange(0, 11)\n",
    "new_data = trial_itt_sampled.copy()\n",
    "\n",
    "# Ensure constant column exists\n",
    "new_data = sm.add_constant(new_data[[\"assigned_treatment\", \"x2\", \"followup_time\"]])\n",
    "\n",
    "predictions = []\n",
    "for t in predict_times:\n",
    "    new_data[\"followup_time\"] = t\n",
    "    pred_prob = msm_model.predict(new_data)\n",
    "    predictions.append(pred_prob.mean())\n",
    "\n",
    "predictions = np.array(predictions)\n",
    "std_error = np.std(predictions) / np.sqrt(len(predictions))\n",
    "ci_lower = predictions - 1.96 * std_error\n",
    "ci_upper = predictions + 1.96 * std_error\n",
    "\n",
    "plt.plot(predict_times, predictions, label=\"Survival Difference\", color=\"blue\")\n",
    "plt.fill_between(predict_times, ci_lower, ci_upper, color=\"red\", alpha=0.3, label=\"95% CI\")\n",
    "\n",
    "plt.xlabel(\"Follow-up Time\")\n",
    "plt.ylabel(\"Survival Probability\")\n",
    "plt.legend()\n",
    "plt.title(\"Survival Difference Over Time\")\n",
    "\n",
    "plt.show()\n"
   ]
  }
 ],
 "metadata": {
  "kernelspec": {
   "display_name": "Python 3",
   "language": "python",
   "name": "python3"
  },
  "language_info": {
   "codemirror_mode": {
    "name": "ipython",
    "version": 3
   },
   "file_extension": ".py",
   "mimetype": "text/x-python",
   "name": "python",
   "nbconvert_exporter": "python",
   "pygments_lexer": "ipython3",
   "version": "3.12.6"
  }
 },
 "nbformat": 4,
 "nbformat_minor": 2
}
